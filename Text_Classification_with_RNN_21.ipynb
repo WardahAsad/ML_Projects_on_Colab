{
  "nbformat": 4,
  "nbformat_minor": 0,
  "metadata": {
    "colab": {
      "provenance": [],
      "include_colab_link": true
    },
    "kernelspec": {
      "name": "python3",
      "display_name": "Python 3"
    },
    "language_info": {
      "name": "python"
    }
  },
  "cells": [
    {
      "cell_type": "markdown",
      "metadata": {
        "id": "view-in-github",
        "colab_type": "text"
      },
      "source": [
        "<a href=\"https://colab.research.google.com/github/WardahAsad/ML_Projects_on_Colab/blob/main/Text_Classification_with_RNN_21.ipynb\" target=\"_parent\"><img src=\"https://colab.research.google.com/assets/colab-badge.svg\" alt=\"Open In Colab\"/></a>"
      ]
    },
    {
      "cell_type": "markdown",
      "source": [
        "### Assignment: Text Classification with RNN\n",
        "\n",
        "#### Objective:\n",
        "\n",
        "The goal of this assignment is to help you build and train a Recurrent Neural Network (RNN) for text classification using Keras/TensorFlow. You will preprocess text data, create sequences, and implement an RNN to classify the data into different categories.\n",
        "\n",
        "#### Tasks:\n",
        "\n",
        "1. **Text Preprocessing:**\n",
        "\n",
        "   * Given the list of documents (`docs`), use a tokenizer to convert the text into sequences of word indices.\n",
        "   * Preprocess the text by removing punctuation and converting all text to lowercase.\n",
        "   * Apply padding to ensure that all sequences are of equal length.\n",
        "\n",
        "2. **Building the RNN Model:**\n",
        "\n",
        "   * Construct an RNN model using Keras.\n",
        "\n",
        "     * Use an Embedding layer to convert word indices into dense vectors of fixed size.\n",
        "     * Add one or more RNN layers (such as LSTM or GRU).\n",
        "     * Include a Dense layer for classification at the output.\n",
        "\n",
        "3. **Model Compilation and Training:**\n",
        "\n",
        "   * Compile the model with an appropriate optimizer, loss function (e.g., categorical cross-entropy), and evaluation metric.\n",
        "   * Train the model on the sequence data, and monitor the training and validation accuracy.\n",
        "\n",
        "4. **Evaluation:**\n",
        "\n",
        "   * Evaluate the model's performance on a test set (you may generate a synthetic test set or use a portion of the existing data for testing).\n",
        "   * Plot the loss and accuracy curves for the training and validation sets.\n",
        "\n",
        "\n",
        "5. **Conclusion:**\n",
        "\n",
        "   * Summarize the model’s performance and the key insights gained from training the RNN on the text data.\n",
        "   * Suggest any improvements to the model or preprocessing steps.\n",
        "\n",
        "#### Submission:\n",
        "\n",
        "* Submit the Jupyter notebook with all code and detailed explanations for each step.\n",
        "* Include visualizations of the model's training progress (e.g., loss and accuracy curves).\n",
        "\n",
        "#### Grading Criteria:\n",
        "\n",
        "* Correct implementation of text preprocessing steps.\n",
        "* Proper construction and training of the RNN model.\n",
        "* Evaluation of model performance on a test dataset.\n",
        "* Clear and insightful interpretation of the results.\n",
        "* Quality of code documentation and explanations.\n",
        "\n",
        "---\n"
      ],
      "metadata": {
        "id": "jgaS1wZdq4PC"
      }
    },
    {
      "cell_type": "code",
      "source": [
        "# Import required libraries\n",
        "import numpy as np\n",
        "import tensorflow as tf\n",
        "from tensorflow.keras.preprocessing.text import Tokenizer\n",
        "from tensorflow.keras.preprocessing.sequence import pad_sequences\n",
        "from tensorflow.keras.models import Sequential\n",
        "from tensorflow.keras.layers import Embedding, LSTM, Dense\n",
        "from sklearn.model_selection import train_test_split\n",
        "import matplotlib.pyplot as plt\n",
        "import string\n",
        "\n",
        "# ==============================================\n",
        "# STEP 1: Handle Documents (because not provided)\n",
        "# ==============================================\n",
        "\n",
        "print(\"1. Creating dataset (since documents not provided)...\")\n",
        "\n",
        "# I am Using Wikipedia text\n",
        "text = \"\"\"\n",
        "Artificial intelligence is intelligence demonstrated by machines.\n",
        "Machine learning is a subset of AI that focuses on algorithms.\n",
        "Deep learning uses neural networks with many layers.\n",
        "Natural language processing enables computers to understand text.\n",
        "Computer vision allows machines to interpret visual information.\n",
        "Robotics combines AI with mechanical engineering.\n",
        "Autonomous vehicles use AI for navigation and decision making.\n",
        "AI ethics concerns the moral implications of artificial intelligence.\n",
        "The Turing Test evaluates a machine's ability to exhibit intelligence.\n",
        "Neural networks are inspired by biological neurons in the brain.\n",
        "\"\"\".strip()"
      ],
      "metadata": {
        "colab": {
          "base_uri": "https://localhost:8080/"
        },
        "id": "Nm8N4S7yqoNV",
        "outputId": "b310f820-c8ee-44ef-8f41-e5478404d210"
      },
      "execution_count": 1,
      "outputs": [
        {
          "output_type": "stream",
          "name": "stdout",
          "text": [
            "1. Creating dataset (since documents not provided)...\n"
          ]
        }
      ]
    },
    {
      "cell_type": "code",
      "source": [
        "# Split into \"documents\" (paragraphs)\n",
        "docs = [line for line in text.split('\\n') if line.strip()]\n",
        "\n",
        "# Create fake categories (since we don't have real labels)\n",
        "categories = ['AI Theory', 'ML Techniques', 'Applications', 'Ethics']\n",
        "num_classes = len(categories)\n",
        "\n",
        "# Assign random categories to documents (for demonstration)\n",
        "y = np.random.randint(0, num_classes, size=len(docs))\n",
        "y = tf.keras.utils.to_categorical(y, num_classes=num_classes)\n",
        "\n",
        "print(f\"\\nCreated {len(docs)} documents with {num_classes} categories\")\n",
        "print(\"Sample document:\", docs[0])\n",
        "print(\"Sample label:\", y[0])"
      ],
      "metadata": {
        "colab": {
          "base_uri": "https://localhost:8080/"
        },
        "id": "fdnLGYg8sWXF",
        "outputId": "a026b1b7-56c5-4e2b-f6e9-daca7efc486a"
      },
      "execution_count": 2,
      "outputs": [
        {
          "output_type": "stream",
          "name": "stdout",
          "text": [
            "\n",
            "Created 10 documents with 4 categories\n",
            "Sample document: Artificial intelligence is intelligence demonstrated by machines. \n",
            "Sample label: [0. 1. 0. 0.]\n"
          ]
        }
      ]
    },
    {
      "cell_type": "markdown",
      "source": [
        "# ==============================================\n",
        "# STEP 2: Text Preprocessing"
      ],
      "metadata": {
        "id": "xnJdQjXMszAI"
      }
    },
    {
      "cell_type": "code",
      "source": [
        "print(\"\\n2. Preprocessing text...\")\n",
        "\n",
        "# Clean text\n",
        "def clean_text(text):\n",
        "    text = text.lower()\n",
        "    text = ''.join([char for char in text if char not in string.punctuation])\n",
        "    return text\n",
        "\n",
        "cleaned_docs = [clean_text(doc) for doc in docs]\n",
        "\n",
        "# Tokenization\n",
        "tokenizer = Tokenizer()\n",
        "tokenizer.fit_on_texts(cleaned_docs)\n",
        "word_index = tokenizer.word_index\n",
        "vocab_size = len(word_index) + 1\n",
        "\n",
        "print(f\"Vocabulary size: {vocab_size}\")\n",
        "\n",
        "# Convert text to sequences\n",
        "sequences = tokenizer.texts_to_sequences(cleaned_docs)\n",
        "max_length = max(len(seq) for seq in sequences)\n",
        "padded_sequences = pad_sequences(sequences, maxlen=max_length, padding='post')\n",
        "\n",
        "print(\"\\nSample sequence:\", sequences[0])\n",
        "print(\"Padded sequence:\", padded_sequences[0])"
      ],
      "metadata": {
        "colab": {
          "base_uri": "https://localhost:8080/"
        },
        "id": "0WsruNhfshLc",
        "outputId": "a47d9800-5cbb-4b9c-addd-289bb658ee68"
      },
      "execution_count": 3,
      "outputs": [
        {
          "output_type": "stream",
          "name": "stdout",
          "text": [
            "\n",
            "2. Preprocessing text...\n",
            "Vocabulary size: 66\n",
            "\n",
            "Sample sequence: [6, 1, 7, 1, 15, 8, 3]\n",
            "Padded sequence: [ 6  1  7  1 15  8  3  0  0  0  0]\n"
          ]
        }
      ]
    },
    {
      "cell_type": "markdown",
      "source": [
        "# ==============================================\n",
        "# STEP 3: Build RNN Model"
      ],
      "metadata": {
        "id": "DvOsAq-wsnff"
      }
    },
    {
      "cell_type": "code",
      "source": [
        "print(\"\\n3. Building RNN model...\")\n",
        "\n",
        "embedding_dim = 16\n",
        "\n",
        "model = Sequential([\n",
        "    Embedding(vocab_size, embedding_dim, input_length=max_length),\n",
        "    LSTM(64, return_sequences=True),\n",
        "    LSTM(32),\n",
        "    Dense(num_classes, activation='softmax')\n",
        "])\n",
        "\n",
        "model.compile(\n",
        "    optimizer='adam',\n",
        "    loss='categorical_crossentropy',\n",
        "    metrics=['accuracy']\n",
        ")\n",
        "\n",
        "model.summary()"
      ],
      "metadata": {
        "colab": {
          "base_uri": "https://localhost:8080/",
          "height": 292
        },
        "id": "2GlOBQD3tCVq",
        "outputId": "e05e9db6-ef50-4df2-983c-8d4bded395dc"
      },
      "execution_count": 5,
      "outputs": [
        {
          "output_type": "stream",
          "name": "stdout",
          "text": [
            "\n",
            "3. Building RNN model...\n"
          ]
        },
        {
          "output_type": "display_data",
          "data": {
            "text/plain": [
              "\u001b[1mModel: \"sequential_1\"\u001b[0m\n"
            ],
            "text/html": [
              "<pre style=\"white-space:pre;overflow-x:auto;line-height:normal;font-family:Menlo,'DejaVu Sans Mono',consolas,'Courier New',monospace\"><span style=\"font-weight: bold\">Model: \"sequential_1\"</span>\n",
              "</pre>\n"
            ]
          },
          "metadata": {}
        },
        {
          "output_type": "display_data",
          "data": {
            "text/plain": [
              "┏━━━━━━━━━━━━━━━━━━━━━━━━━━━━━━━━━┳━━━━━━━━━━━━━━━━━━━━━━━━┳━━━━━━━━━━━━━━━┓\n",
              "┃\u001b[1m \u001b[0m\u001b[1mLayer (type)                   \u001b[0m\u001b[1m \u001b[0m┃\u001b[1m \u001b[0m\u001b[1mOutput Shape          \u001b[0m\u001b[1m \u001b[0m┃\u001b[1m \u001b[0m\u001b[1m      Param #\u001b[0m\u001b[1m \u001b[0m┃\n",
              "┡━━━━━━━━━━━━━━━━━━━━━━━━━━━━━━━━━╇━━━━━━━━━━━━━━━━━━━━━━━━╇━━━━━━━━━━━━━━━┩\n",
              "│ embedding_1 (\u001b[38;5;33mEmbedding\u001b[0m)         │ ?                      │   \u001b[38;5;34m0\u001b[0m (unbuilt) │\n",
              "├─────────────────────────────────┼────────────────────────┼───────────────┤\n",
              "│ lstm_2 (\u001b[38;5;33mLSTM\u001b[0m)                   │ ?                      │   \u001b[38;5;34m0\u001b[0m (unbuilt) │\n",
              "├─────────────────────────────────┼────────────────────────┼───────────────┤\n",
              "│ lstm_3 (\u001b[38;5;33mLSTM\u001b[0m)                   │ ?                      │   \u001b[38;5;34m0\u001b[0m (unbuilt) │\n",
              "├─────────────────────────────────┼────────────────────────┼───────────────┤\n",
              "│ dense_1 (\u001b[38;5;33mDense\u001b[0m)                 │ ?                      │   \u001b[38;5;34m0\u001b[0m (unbuilt) │\n",
              "└─────────────────────────────────┴────────────────────────┴───────────────┘\n"
            ],
            "text/html": [
              "<pre style=\"white-space:pre;overflow-x:auto;line-height:normal;font-family:Menlo,'DejaVu Sans Mono',consolas,'Courier New',monospace\">┏━━━━━━━━━━━━━━━━━━━━━━━━━━━━━━━━━┳━━━━━━━━━━━━━━━━━━━━━━━━┳━━━━━━━━━━━━━━━┓\n",
              "┃<span style=\"font-weight: bold\"> Layer (type)                    </span>┃<span style=\"font-weight: bold\"> Output Shape           </span>┃<span style=\"font-weight: bold\">       Param # </span>┃\n",
              "┡━━━━━━━━━━━━━━━━━━━━━━━━━━━━━━━━━╇━━━━━━━━━━━━━━━━━━━━━━━━╇━━━━━━━━━━━━━━━┩\n",
              "│ embedding_1 (<span style=\"color: #0087ff; text-decoration-color: #0087ff\">Embedding</span>)         │ ?                      │   <span style=\"color: #00af00; text-decoration-color: #00af00\">0</span> (unbuilt) │\n",
              "├─────────────────────────────────┼────────────────────────┼───────────────┤\n",
              "│ lstm_2 (<span style=\"color: #0087ff; text-decoration-color: #0087ff\">LSTM</span>)                   │ ?                      │   <span style=\"color: #00af00; text-decoration-color: #00af00\">0</span> (unbuilt) │\n",
              "├─────────────────────────────────┼────────────────────────┼───────────────┤\n",
              "│ lstm_3 (<span style=\"color: #0087ff; text-decoration-color: #0087ff\">LSTM</span>)                   │ ?                      │   <span style=\"color: #00af00; text-decoration-color: #00af00\">0</span> (unbuilt) │\n",
              "├─────────────────────────────────┼────────────────────────┼───────────────┤\n",
              "│ dense_1 (<span style=\"color: #0087ff; text-decoration-color: #0087ff\">Dense</span>)                 │ ?                      │   <span style=\"color: #00af00; text-decoration-color: #00af00\">0</span> (unbuilt) │\n",
              "└─────────────────────────────────┴────────────────────────┴───────────────┘\n",
              "</pre>\n"
            ]
          },
          "metadata": {}
        },
        {
          "output_type": "display_data",
          "data": {
            "text/plain": [
              "\u001b[1m Total params: \u001b[0m\u001b[38;5;34m0\u001b[0m (0.00 B)\n"
            ],
            "text/html": [
              "<pre style=\"white-space:pre;overflow-x:auto;line-height:normal;font-family:Menlo,'DejaVu Sans Mono',consolas,'Courier New',monospace\"><span style=\"font-weight: bold\"> Total params: </span><span style=\"color: #00af00; text-decoration-color: #00af00\">0</span> (0.00 B)\n",
              "</pre>\n"
            ]
          },
          "metadata": {}
        },
        {
          "output_type": "display_data",
          "data": {
            "text/plain": [
              "\u001b[1m Trainable params: \u001b[0m\u001b[38;5;34m0\u001b[0m (0.00 B)\n"
            ],
            "text/html": [
              "<pre style=\"white-space:pre;overflow-x:auto;line-height:normal;font-family:Menlo,'DejaVu Sans Mono',consolas,'Courier New',monospace\"><span style=\"font-weight: bold\"> Trainable params: </span><span style=\"color: #00af00; text-decoration-color: #00af00\">0</span> (0.00 B)\n",
              "</pre>\n"
            ]
          },
          "metadata": {}
        },
        {
          "output_type": "display_data",
          "data": {
            "text/plain": [
              "\u001b[1m Non-trainable params: \u001b[0m\u001b[38;5;34m0\u001b[0m (0.00 B)\n"
            ],
            "text/html": [
              "<pre style=\"white-space:pre;overflow-x:auto;line-height:normal;font-family:Menlo,'DejaVu Sans Mono',consolas,'Courier New',monospace\"><span style=\"font-weight: bold\"> Non-trainable params: </span><span style=\"color: #00af00; text-decoration-color: #00af00\">0</span> (0.00 B)\n",
              "</pre>\n"
            ]
          },
          "metadata": {}
        }
      ]
    },
    {
      "cell_type": "markdown",
      "source": [
        "# ==============================================\n",
        "# STEP 4: Train the Model"
      ],
      "metadata": {
        "id": "zxnukKxStFIp"
      }
    },
    {
      "cell_type": "code",
      "source": [
        "print(\"\\n4. Training model...\")\n",
        "\n",
        "# Split data (80% train, 20% test)\n",
        "X_train, X_test, y_train, y_test = train_test_split(\n",
        "    padded_sequences, y, test_size=0.2, random_state=42\n",
        ")\n",
        "\n",
        "history = model.fit(\n",
        "    X_train, y_train,\n",
        "    epochs=30,\n",
        "    validation_data=(X_test, y_test),\n",
        "    batch_size=8\n",
        ")\n"
      ],
      "metadata": {
        "colab": {
          "base_uri": "https://localhost:8080/"
        },
        "id": "NcN4fVB0tJv_",
        "outputId": "3985c1c8-4d3d-4e98-d657-d38b46d8e8b6"
      },
      "execution_count": 6,
      "outputs": [
        {
          "output_type": "stream",
          "name": "stdout",
          "text": [
            "\n",
            "4. Training model...\n",
            "Epoch 1/30\n",
            "\u001b[1m1/1\u001b[0m \u001b[32m━━━━━━━━━━━━━━━━━━━━\u001b[0m\u001b[37m\u001b[0m \u001b[1m5s\u001b[0m 5s/step - accuracy: 0.1250 - loss: 1.3864 - val_accuracy: 0.0000e+00 - val_loss: 1.3854\n",
            "Epoch 2/30\n",
            "\u001b[1m1/1\u001b[0m \u001b[32m━━━━━━━━━━━━━━━━━━━━\u001b[0m\u001b[37m\u001b[0m \u001b[1m0s\u001b[0m 106ms/step - accuracy: 0.5000 - loss: 1.3829 - val_accuracy: 0.0000e+00 - val_loss: 1.3839\n",
            "Epoch 3/30\n",
            "\u001b[1m1/1\u001b[0m \u001b[32m━━━━━━━━━━━━━━━━━━━━\u001b[0m\u001b[37m\u001b[0m \u001b[1m0s\u001b[0m 103ms/step - accuracy: 0.3750 - loss: 1.3793 - val_accuracy: 0.0000e+00 - val_loss: 1.3825\n",
            "Epoch 4/30\n",
            "\u001b[1m1/1\u001b[0m \u001b[32m━━━━━━━━━━━━━━━━━━━━\u001b[0m\u001b[37m\u001b[0m \u001b[1m0s\u001b[0m 112ms/step - accuracy: 0.3750 - loss: 1.3756 - val_accuracy: 0.0000e+00 - val_loss: 1.3810\n",
            "Epoch 5/30\n",
            "\u001b[1m1/1\u001b[0m \u001b[32m━━━━━━━━━━━━━━━━━━━━\u001b[0m\u001b[37m\u001b[0m \u001b[1m0s\u001b[0m 109ms/step - accuracy: 0.3750 - loss: 1.3718 - val_accuracy: 0.0000e+00 - val_loss: 1.3795\n",
            "Epoch 6/30\n",
            "\u001b[1m1/1\u001b[0m \u001b[32m━━━━━━━━━━━━━━━━━━━━\u001b[0m\u001b[37m\u001b[0m \u001b[1m0s\u001b[0m 118ms/step - accuracy: 0.3750 - loss: 1.3676 - val_accuracy: 0.0000e+00 - val_loss: 1.3780\n",
            "Epoch 7/30\n",
            "\u001b[1m1/1\u001b[0m \u001b[32m━━━━━━━━━━━━━━━━━━━━\u001b[0m\u001b[37m\u001b[0m \u001b[1m0s\u001b[0m 143ms/step - accuracy: 0.3750 - loss: 1.3630 - val_accuracy: 0.0000e+00 - val_loss: 1.3764\n",
            "Epoch 8/30\n",
            "\u001b[1m1/1\u001b[0m \u001b[32m━━━━━━━━━━━━━━━━━━━━\u001b[0m\u001b[37m\u001b[0m \u001b[1m0s\u001b[0m 145ms/step - accuracy: 0.3750 - loss: 1.3580 - val_accuracy: 0.0000e+00 - val_loss: 1.3748\n",
            "Epoch 9/30\n",
            "\u001b[1m1/1\u001b[0m \u001b[32m━━━━━━━━━━━━━━━━━━━━\u001b[0m\u001b[37m\u001b[0m \u001b[1m0s\u001b[0m 108ms/step - accuracy: 0.3750 - loss: 1.3525 - val_accuracy: 0.0000e+00 - val_loss: 1.3731\n",
            "Epoch 10/30\n",
            "\u001b[1m1/1\u001b[0m \u001b[32m━━━━━━━━━━━━━━━━━━━━\u001b[0m\u001b[37m\u001b[0m \u001b[1m0s\u001b[0m 108ms/step - accuracy: 0.3750 - loss: 1.3463 - val_accuracy: 0.0000e+00 - val_loss: 1.3713\n",
            "Epoch 11/30\n",
            "\u001b[1m1/1\u001b[0m \u001b[32m━━━━━━━━━━━━━━━━━━━━\u001b[0m\u001b[37m\u001b[0m \u001b[1m0s\u001b[0m 115ms/step - accuracy: 0.3750 - loss: 1.3394 - val_accuracy: 0.0000e+00 - val_loss: 1.3695\n",
            "Epoch 12/30\n",
            "\u001b[1m1/1\u001b[0m \u001b[32m━━━━━━━━━━━━━━━━━━━━\u001b[0m\u001b[37m\u001b[0m \u001b[1m0s\u001b[0m 141ms/step - accuracy: 0.3750 - loss: 1.3317 - val_accuracy: 0.0000e+00 - val_loss: 1.3677\n",
            "Epoch 13/30\n",
            "\u001b[1m1/1\u001b[0m \u001b[32m━━━━━━━━━━━━━━━━━━━━\u001b[0m\u001b[37m\u001b[0m \u001b[1m0s\u001b[0m 113ms/step - accuracy: 0.3750 - loss: 1.3231 - val_accuracy: 0.0000e+00 - val_loss: 1.3660\n",
            "Epoch 14/30\n",
            "\u001b[1m1/1\u001b[0m \u001b[32m━━━━━━━━━━━━━━━━━━━━\u001b[0m\u001b[37m\u001b[0m \u001b[1m0s\u001b[0m 111ms/step - accuracy: 0.3750 - loss: 1.3136 - val_accuracy: 0.0000e+00 - val_loss: 1.3647\n",
            "Epoch 15/30\n",
            "\u001b[1m1/1\u001b[0m \u001b[32m━━━━━━━━━━━━━━━━━━━━\u001b[0m\u001b[37m\u001b[0m \u001b[1m0s\u001b[0m 153ms/step - accuracy: 0.3750 - loss: 1.3031 - val_accuracy: 0.0000e+00 - val_loss: 1.3638\n",
            "Epoch 16/30\n",
            "\u001b[1m1/1\u001b[0m \u001b[32m━━━━━━━━━━━━━━━━━━━━\u001b[0m\u001b[37m\u001b[0m \u001b[1m0s\u001b[0m 152ms/step - accuracy: 0.3750 - loss: 1.2915 - val_accuracy: 0.0000e+00 - val_loss: 1.3637\n",
            "Epoch 17/30\n",
            "\u001b[1m1/1\u001b[0m \u001b[32m━━━━━━━━━━━━━━━━━━━━\u001b[0m\u001b[37m\u001b[0m \u001b[1m0s\u001b[0m 100ms/step - accuracy: 0.3750 - loss: 1.2788 - val_accuracy: 0.0000e+00 - val_loss: 1.3648\n",
            "Epoch 18/30\n",
            "\u001b[1m1/1\u001b[0m \u001b[32m━━━━━━━━━━━━━━━━━━━━\u001b[0m\u001b[37m\u001b[0m \u001b[1m0s\u001b[0m 96ms/step - accuracy: 0.3750 - loss: 1.2651 - val_accuracy: 0.0000e+00 - val_loss: 1.3679\n",
            "Epoch 19/30\n",
            "\u001b[1m1/1\u001b[0m \u001b[32m━━━━━━━━━━━━━━━━━━━━\u001b[0m\u001b[37m\u001b[0m \u001b[1m0s\u001b[0m 140ms/step - accuracy: 0.3750 - loss: 1.2504 - val_accuracy: 0.0000e+00 - val_loss: 1.3737\n",
            "Epoch 20/30\n",
            "\u001b[1m1/1\u001b[0m \u001b[32m━━━━━━━━━━━━━━━━━━━━\u001b[0m\u001b[37m\u001b[0m \u001b[1m0s\u001b[0m 138ms/step - accuracy: 0.3750 - loss: 1.2349 - val_accuracy: 0.0000e+00 - val_loss: 1.3829\n",
            "Epoch 21/30\n",
            "\u001b[1m1/1\u001b[0m \u001b[32m━━━━━━━━━━━━━━━━━━━━\u001b[0m\u001b[37m\u001b[0m \u001b[1m0s\u001b[0m 139ms/step - accuracy: 0.3750 - loss: 1.2188 - val_accuracy: 0.0000e+00 - val_loss: 1.3957\n",
            "Epoch 22/30\n",
            "\u001b[1m1/1\u001b[0m \u001b[32m━━━━━━━━━━━━━━━━━━━━\u001b[0m\u001b[37m\u001b[0m \u001b[1m0s\u001b[0m 101ms/step - accuracy: 0.3750 - loss: 1.2018 - val_accuracy: 0.0000e+00 - val_loss: 1.4112\n",
            "Epoch 23/30\n",
            "\u001b[1m1/1\u001b[0m \u001b[32m━━━━━━━━━━━━━━━━━━━━\u001b[0m\u001b[37m\u001b[0m \u001b[1m0s\u001b[0m 148ms/step - accuracy: 0.3750 - loss: 1.1832 - val_accuracy: 0.0000e+00 - val_loss: 1.4275\n",
            "Epoch 24/30\n",
            "\u001b[1m1/1\u001b[0m \u001b[32m━━━━━━━━━━━━━━━━━━━━\u001b[0m\u001b[37m\u001b[0m \u001b[1m0s\u001b[0m 107ms/step - accuracy: 0.3750 - loss: 1.1616 - val_accuracy: 0.0000e+00 - val_loss: 1.4423\n",
            "Epoch 25/30\n",
            "\u001b[1m1/1\u001b[0m \u001b[32m━━━━━━━━━━━━━━━━━━━━\u001b[0m\u001b[37m\u001b[0m \u001b[1m0s\u001b[0m 139ms/step - accuracy: 0.3750 - loss: 1.1354 - val_accuracy: 0.0000e+00 - val_loss: 1.4542\n",
            "Epoch 26/30\n",
            "\u001b[1m1/1\u001b[0m \u001b[32m━━━━━━━━━━━━━━━━━━━━\u001b[0m\u001b[37m\u001b[0m \u001b[1m0s\u001b[0m 142ms/step - accuracy: 0.3750 - loss: 1.1032 - val_accuracy: 0.0000e+00 - val_loss: 1.4632\n",
            "Epoch 27/30\n",
            "\u001b[1m1/1\u001b[0m \u001b[32m━━━━━━━━━━━━━━━━━━━━\u001b[0m\u001b[37m\u001b[0m \u001b[1m0s\u001b[0m 106ms/step - accuracy: 0.5000 - loss: 1.0642 - val_accuracy: 0.0000e+00 - val_loss: 1.4708\n",
            "Epoch 28/30\n",
            "\u001b[1m1/1\u001b[0m \u001b[32m━━━━━━━━━━━━━━━━━━━━\u001b[0m\u001b[37m\u001b[0m \u001b[1m0s\u001b[0m 142ms/step - accuracy: 0.6250 - loss: 1.0186 - val_accuracy: 0.0000e+00 - val_loss: 1.4789\n",
            "Epoch 29/30\n",
            "\u001b[1m1/1\u001b[0m \u001b[32m━━━━━━━━━━━━━━━━━━━━\u001b[0m\u001b[37m\u001b[0m \u001b[1m0s\u001b[0m 112ms/step - accuracy: 0.6250 - loss: 0.9668 - val_accuracy: 0.0000e+00 - val_loss: 1.4904\n",
            "Epoch 30/30\n",
            "\u001b[1m1/1\u001b[0m \u001b[32m━━━━━━━━━━━━━━━━━━━━\u001b[0m\u001b[37m\u001b[0m \u001b[1m0s\u001b[0m 173ms/step - accuracy: 0.6250 - loss: 0.9099 - val_accuracy: 0.0000e+00 - val_loss: 1.5085\n"
          ]
        }
      ]
    },
    {
      "cell_type": "markdown",
      "source": [
        "#==============================================\n",
        "# STEP 5: Evaluation"
      ],
      "metadata": {
        "id": "6p42C3aNtXgP"
      }
    },
    {
      "cell_type": "code",
      "source": [
        "print(\"\\n5. Evaluating model...\")\n",
        "\n",
        "# Plot training history\n",
        "plt.figure(figsize=(12, 5))\n",
        "\n",
        "plt.subplot(1, 2, 1)\n",
        "plt.plot(history.history['accuracy'], label='Train Accuracy')\n",
        "plt.plot(history.history['val_accuracy'], label='Val Accuracy')\n",
        "plt.title('Model Accuracy')\n",
        "plt.ylabel('Accuracy')\n",
        "plt.xlabel('Epoch')\n",
        "plt.legend()\n",
        "\n",
        "plt.subplot(1, 2, 2)\n",
        "plt.plot(history.history['loss'], label='Train Loss')\n",
        "plt.plot(history.history['val_loss'], label='Val Loss')\n",
        "plt.title('Model Loss')\n",
        "plt.ylabel('Loss')\n",
        "plt.xlabel('Epoch')\n",
        "plt.legend()\n",
        "\n",
        "plt.tight_layout()\n",
        "plt.show()\n",
        "\n",
        "# Test evaluation\n",
        "test_loss, test_acc = model.evaluate(X_test, y_test)\n",
        "print(f\"\\nTest Accuracy: {test_acc:.2f}\")\n"
      ],
      "metadata": {
        "colab": {
          "base_uri": "https://localhost:8080/",
          "height": 581
        },
        "id": "VNddBOhote6m",
        "outputId": "614aa3f7-b0c8-45b5-a5cf-8825df9039d8"
      },
      "execution_count": 7,
      "outputs": [
        {
          "output_type": "stream",
          "name": "stdout",
          "text": [
            "\n",
            "5. Evaluating model...\n"
          ]
        },
        {
          "output_type": "display_data",
          "data": {
            "text/plain": [
              "<Figure size 1200x500 with 2 Axes>"
            ],
            "image/png": "[encoded data removed]"
          },
          "metadata": {}
        },
        {
          "output_type": "stream",
          "name": "stdout",
          "text": [
            "\u001b[1m1/1\u001b[0m \u001b[32m━━━━━━━━━━━━━━━━━━━━\u001b[0m\u001b[37m\u001b[0m \u001b[1m0s\u001b[0m 56ms/step - accuracy: 0.0000e+00 - loss: 1.5085\n",
            "\n",
            "Test Accuracy: 0.00\n"
          ]
        }
      ]
    },
    {
      "cell_type": "markdown",
      "source": [
        "# ==============================================\n",
        "# STEP 6: Make Predictions"
      ],
      "metadata": {
        "id": "CEtSLxjatma7"
      }
    },
    {
      "cell_type": "code",
      "source": [
        "print(\"\\n6. Making predictions...\")\n",
        "\n",
        "sample_texts = [\n",
        "    \"neural networks and deep learning\",\n",
        "    \"AI moral implications\",\n",
        "    \"computer vision systems\"\n",
        "]\n",
        "\n",
        "# Preprocess samples\n",
        "cleaned_samples = [clean_text(text) for text in sample_texts]\n",
        "sample_sequences = tokenizer.texts_to_sequences(cleaned_samples)\n",
        "sample_padded = pad_sequences(sample_sequences, maxlen=max_length, padding='post')\n",
        "\n",
        "# Predict\n",
        "predictions = model.predict(sample_padded)\n",
        "predicted_classes = np.argmax(predictions, axis=1)\n",
        "\n",
        "print(\"\\nSample Predictions:\")\n",
        "for text, pred in zip(sample_texts, predicted_classes):\n",
        "    print(f\"Text: '{text}' => Predicted: {categories[pred]}\")"
      ],
      "metadata": {
        "colab": {
          "base_uri": "https://localhost:8080/"
        },
        "id": "16zBJpJBqnsk",
        "outputId": "40b65833-680b-4ecf-b144-db581ce6df0a"
      },
      "execution_count": 8,
      "outputs": [
        {
          "output_type": "stream",
          "name": "stdout",
          "text": [
            "\n",
            "6. Making predictions...\n",
            "\u001b[1m1/1\u001b[0m \u001b[32m━━━━━━━━━━━━━━━━━━━━\u001b[0m\u001b[37m\u001b[0m \u001b[1m0s\u001b[0m 385ms/step\n",
            "\n",
            "Sample Predictions:\n",
            "Text: 'neural networks and deep learning' => Predicted: ML Techniques\n",
            "Text: 'AI moral implications' => Predicted: Applications\n",
            "Text: 'computer vision systems' => Predicted: Applications\n"
          ]
        }
      ]
    }
  ]
}