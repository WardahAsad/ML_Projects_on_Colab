{
  "nbformat": 4,
  "nbformat_minor": 0,
  "metadata": {
    "colab": {
      "provenance": [],
      "include_colab_link": true
    },
    "kernelspec": {
      "name": "python3",
      "display_name": "Python 3"
    },
    "language_info": {
      "name": "python"
    }
  },
  "cells": [
    {
      "cell_type": "markdown",
      "metadata": {
        "id": "view-in-github",
        "colab_type": "text"
      },
      "source": [
        "<a href=\"https://colab.research.google.com/github/WardahAsad/SignEase/blob/main/Random_Forest_Regression_House_Price_Prediction.ipynb\" target=\"_parent\"><img src=\"https://colab.research.google.com/assets/colab-badge.svg\" alt=\"Open In Colab\"/></a>"
      ]
    },
    {
      "cell_type": "markdown",
      "source": [
        "# **Assignment: Random Forest Regression for House Price Prediction**\n",
        "\n",
        "## **Objective**  \n",
        "Train and evaluate a **Random Forest Regression model** to predict house prices based on various features such as area, number of bedrooms, population, etc.\n",
        "\n",
        "---\n",
        "\n",
        "## **Dataset**  \n",
        "Download the **USA Housing Price dataset** from Kaggle:  \n",
        "🔗 [USA Housing Price Dataset](https://www.kaggle.com/datasets/gpandi007/usa-housing-dataset)  \n",
        "\n",
        "- Load the dataset into a Pandas DataFrame.  \n",
        "- Display the first few rows to understand the structure.  \n",
        "\n",
        "---\n",
        "\n",
        "## **Tasks**  \n",
        "\n",
        "### **1. Data Preprocessing**  \n",
        "- Drop irrelevant columns such as \"Address\" (if applicable).  \n",
        "- Check and handle missing values.  \n",
        "- Normalize numerical features using **StandardScaler**.  \n",
        "- Split the dataset into **80% training and 20% testing**.  \n",
        "\n",
        "---\n",
        "\n",
        "### **2. Train Random Forest Regression Model**  \n",
        "- Train a **Random Forest Regressor** with default parameters.  \n",
        "- Evaluate its initial performance.  \n",
        "\n",
        "---\n",
        "\n",
        "### **3. Hyperparameter Tuning**  \n",
        "- Use **GridSearchCV** to tune the following hyperparameters:  \n",
        "  - `n_estimators` (Number of trees in the forest)  \n",
        "  - `max_depth` (Maximum depth of each tree)  \n",
        "  - `min_samples_split` (Minimum samples required to split a node)  \n",
        "  - `min_samples_leaf` (Minimum samples required at a leaf node)  \n",
        "\n",
        "---\n",
        "\n",
        "### **4. Model Evaluation**  \n",
        "- Compute and print the following metrics for both the **default** and **tuned** models:  \n",
        "  - **Mean Squared Error (MSE)**  \n",
        "  - **Mean Absolute Error (MAE)**  \n",
        "  - **R² Score**  \n",
        "\n",
        "---\n",
        "\n",
        "### **5. Visualization**  \n",
        "- Plot **Actual vs. Predicted values** for the Random Forest model.  \n",
        "- Plot a **feature importance graph** to analyze which features contribute the most to house price prediction.  \n",
        "\n",
        "---\n",
        "\n",
        "## **Submission Guidelines**  \n",
        "- Submit a **colab Notebook (.ipynb)** with code and visualizations.  \n"
      ],
      "metadata": {
        "id": "b6RiWfyWIGSa"
      }
    },
    {
      "cell_type": "code",
      "source": [
        "import pandas as pd\n",
        "import numpy as np\n",
        "import matplotlib.pyplot as plt\n",
        "from sklearn.ensemble import RandomForestRegressor\n",
        "from sklearn.preprocessing import StandardScaler\n",
        "from sklearn.metrics import mean_squared_error, mean_absolute_error, r2_score\n",
        "from sklearn.model_selection import GridSearchCV\n",
        "from sklearn.pipeline import Pipeline\n",
        "\n",
        "# Step 1: Load the datasets\n",
        "train_df = pd.read_csv('/content/housing_train.csv')\n",
        "test_df = pd.read_csv('/content/housing_test.csv')"
      ],
      "metadata": {
        "id": "wyvXdQ_Izgh1"
      },
      "execution_count": 2,
      "outputs": []
    },
    {
      "cell_type": "code",
      "source": [
        "# Display basic info\n",
        "print(\"Training Dataset Info:\")\n",
        "print(train_df.info())\n",
        "print(\"\\nTest Dataset Info:\")\n",
        "print(test_df.info())"
      ],
      "metadata": {
        "id": "msrPfGGyzyxp",
        "outputId": "f3bcbc1e-8974-48b2-e041-a8738bf4c6ed",
        "colab": {
          "base_uri": "https://localhost:8080/"
        }
      },
      "execution_count": 3,
      "outputs": [
        {
          "output_type": "stream",
          "name": "stdout",
          "text": [
            "Training Dataset Info:\n",
            "<class 'pandas.core.frame.DataFrame'>\n",
            "RangeIndex: 1460 entries, 0 to 1459\n",
            "Data columns (total 81 columns):\n",
            " #   Column         Non-Null Count  Dtype  \n",
            "---  ------         --------------  -----  \n",
            " 0   Id             1460 non-null   int64  \n",
            " 1   MSSubClass     1460 non-null   int64  \n",
            " 2   MSZoning       1460 non-null   object \n",
            " 3   LotFrontage    1201 non-null   float64\n",
            " 4   LotArea        1460 non-null   int64  \n",
            " 5   Street         1460 non-null   object \n",
            " 6   Alley          91 non-null     object \n",
            " 7   LotShape       1460 non-null   object \n",
            " 8   LandContour    1460 non-null   object \n",
            " 9   Utilities      1460 non-null   object \n",
            " 10  LotConfig      1460 non-null   object \n",
            " 11  LandSlope      1460 non-null   object \n",
            " 12  Neighborhood   1460 non-null   object \n",
            " 13  Condition1     1460 non-null   object \n",
            " 14  Condition2     1460 non-null   object \n",
            " 15  BldgType       1460 non-null   object \n",
            " 16  HouseStyle     1460 non-null   object \n",
            " 17  OverallQual    1460 non-null   int64  \n",
            " 18  OverallCond    1460 non-null   int64  \n",
            " 19  YearBuilt      1460 non-null   int64  \n",
            " 20  YearRemodAdd   1460 non-null   int64  \n",
            " 21  RoofStyle      1460 non-null   object \n",
            " 22  RoofMatl       1460 non-null   object \n",
            " 23  Exterior1st    1460 non-null   object \n",
            " 24  Exterior2nd    1460 non-null   object \n",
            " 25  MasVnrType     588 non-null    object \n",
            " 26  MasVnrArea     1452 non-null   float64\n",
            " 27  ExterQual      1460 non-null   object \n",
            " 28  ExterCond      1460 non-null   object \n",
            " 29  Foundation     1460 non-null   object \n",
            " 30  BsmtQual       1423 non-null   object \n",
            " 31  BsmtCond       1423 non-null   object \n",
            " 32  BsmtExposure   1422 non-null   object \n",
            " 33  BsmtFinType1   1423 non-null   object \n",
            " 34  BsmtFinSF1     1460 non-null   int64  \n",
            " 35  BsmtFinType2   1422 non-null   object \n",
            " 36  BsmtFinSF2     1460 non-null   int64  \n",
            " 37  BsmtUnfSF      1460 non-null   int64  \n",
            " 38  TotalBsmtSF    1460 non-null   int64  \n",
            " 39  Heating        1460 non-null   object \n",
            " 40  HeatingQC      1460 non-null   object \n",
            " 41  CentralAir     1460 non-null   object \n",
            " 42  Electrical     1459 non-null   object \n",
            " 43  1stFlrSF       1460 non-null   int64  \n",
            " 44  2ndFlrSF       1460 non-null   int64  \n",
            " 45  LowQualFinSF   1460 non-null   int64  \n",
            " 46  GrLivArea      1460 non-null   int64  \n",
            " 47  BsmtFullBath   1460 non-null   int64  \n",
            " 48  BsmtHalfBath   1460 non-null   int64  \n",
            " 49  FullBath       1460 non-null   int64  \n",
            " 50  HalfBath       1460 non-null   int64  \n",
            " 51  BedroomAbvGr   1460 non-null   int64  \n",
            " 52  KitchenAbvGr   1460 non-null   int64  \n",
            " 53  KitchenQual    1460 non-null   object \n",
            " 54  TotRmsAbvGrd   1460 non-null   int64  \n",
            " 55  Functional     1460 non-null   object \n",
            " 56  Fireplaces     1460 non-null   int64  \n",
            " 57  FireplaceQu    770 non-null    object \n",
            " 58  GarageType     1379 non-null   object \n",
            " 59  GarageYrBlt    1379 non-null   float64\n",
            " 60  GarageFinish   1379 non-null   object \n",
            " 61  GarageCars     1460 non-null   int64  \n",
            " 62  GarageArea     1460 non-null   int64  \n",
            " 63  GarageQual     1379 non-null   object \n",
            " 64  GarageCond     1379 non-null   object \n",
            " 65  PavedDrive     1460 non-null   object \n",
            " 66  WoodDeckSF     1460 non-null   int64  \n",
            " 67  OpenPorchSF    1460 non-null   int64  \n",
            " 68  EnclosedPorch  1460 non-null   int64  \n",
            " 69  3SsnPorch      1460 non-null   int64  \n",
            " 70  ScreenPorch    1460 non-null   int64  \n",
            " 71  PoolArea       1460 non-null   int64  \n",
            " 72  PoolQC         7 non-null      object \n",
            " 73  Fence          281 non-null    object \n",
            " 74  MiscFeature    54 non-null     object \n",
            " 75  MiscVal        1460 non-null   int64  \n",
            " 76  MoSold         1460 non-null   int64  \n",
            " 77  YrSold         1460 non-null   int64  \n",
            " 78  SaleType       1460 non-null   object \n",
            " 79  SaleCondition  1460 non-null   object \n",
            " 80  SalePrice      1460 non-null   int64  \n",
            "dtypes: float64(3), int64(35), object(43)\n",
            "memory usage: 924.0+ KB\n",
            "None\n",
            "\n",
            "Test Dataset Info:\n",
            "<class 'pandas.core.frame.DataFrame'>\n",
            "RangeIndex: 1459 entries, 0 to 1458\n",
            "Data columns (total 80 columns):\n",
            " #   Column         Non-Null Count  Dtype  \n",
            "---  ------         --------------  -----  \n",
            " 0   Id             1459 non-null   int64  \n",
            " 1   MSSubClass     1459 non-null   int64  \n",
            " 2   MSZoning       1455 non-null   object \n",
            " 3   LotFrontage    1232 non-null   float64\n",
            " 4   LotArea        1459 non-null   int64  \n",
            " 5   Street         1459 non-null   object \n",
            " 6   Alley          107 non-null    object \n",
            " 7   LotShape       1459 non-null   object \n",
            " 8   LandContour    1459 non-null   object \n",
            " 9   Utilities      1457 non-null   object \n",
            " 10  LotConfig      1459 non-null   object \n",
            " 11  LandSlope      1459 non-null   object \n",
            " 12  Neighborhood   1459 non-null   object \n",
            " 13  Condition1     1459 non-null   object \n",
            " 14  Condition2     1459 non-null   object \n",
            " 15  BldgType       1459 non-null   object \n",
            " 16  HouseStyle     1459 non-null   object \n",
            " 17  OverallQual    1459 non-null   int64  \n",
            " 18  OverallCond    1459 non-null   int64  \n",
            " 19  YearBuilt      1459 non-null   int64  \n",
            " 20  YearRemodAdd   1459 non-null   int64  \n",
            " 21  RoofStyle      1459 non-null   object \n",
            " 22  RoofMatl       1459 non-null   object \n",
            " 23  Exterior1st    1458 non-null   object \n",
            " 24  Exterior2nd    1458 non-null   object \n",
            " 25  MasVnrType     565 non-null    object \n",
            " 26  MasVnrArea     1444 non-null   float64\n",
            " 27  ExterQual      1459 non-null   object \n",
            " 28  ExterCond      1459 non-null   object \n",
            " 29  Foundation     1459 non-null   object \n",
            " 30  BsmtQual       1415 non-null   object \n",
            " 31  BsmtCond       1414 non-null   object \n",
            " 32  BsmtExposure   1415 non-null   object \n",
            " 33  BsmtFinType1   1417 non-null   object \n",
            " 34  BsmtFinSF1     1458 non-null   float64\n",
            " 35  BsmtFinType2   1417 non-null   object \n",
            " 36  BsmtFinSF2     1458 non-null   float64\n",
            " 37  BsmtUnfSF      1458 non-null   float64\n",
            " 38  TotalBsmtSF    1458 non-null   float64\n",
            " 39  Heating        1459 non-null   object \n",
            " 40  HeatingQC      1459 non-null   object \n",
            " 41  CentralAir     1459 non-null   object \n",
            " 42  Electrical     1459 non-null   object \n",
            " 43  1stFlrSF       1459 non-null   int64  \n",
            " 44  2ndFlrSF       1459 non-null   int64  \n",
            " 45  LowQualFinSF   1459 non-null   int64  \n",
            " 46  GrLivArea      1459 non-null   int64  \n",
            " 47  BsmtFullBath   1457 non-null   float64\n",
            " 48  BsmtHalfBath   1457 non-null   float64\n",
            " 49  FullBath       1459 non-null   int64  \n",
            " 50  HalfBath       1459 non-null   int64  \n",
            " 51  BedroomAbvGr   1459 non-null   int64  \n",
            " 52  KitchenAbvGr   1459 non-null   int64  \n",
            " 53  KitchenQual    1458 non-null   object \n",
            " 54  TotRmsAbvGrd   1459 non-null   int64  \n",
            " 55  Functional     1457 non-null   object \n",
            " 56  Fireplaces     1459 non-null   int64  \n",
            " 57  FireplaceQu    729 non-null    object \n",
            " 58  GarageType     1383 non-null   object \n",
            " 59  GarageYrBlt    1381 non-null   float64\n",
            " 60  GarageFinish   1381 non-null   object \n",
            " 61  GarageCars     1458 non-null   float64\n",
            " 62  GarageArea     1458 non-null   float64\n",
            " 63  GarageQual     1381 non-null   object \n",
            " 64  GarageCond     1381 non-null   object \n",
            " 65  PavedDrive     1459 non-null   object \n",
            " 66  WoodDeckSF     1459 non-null   int64  \n",
            " 67  OpenPorchSF    1459 non-null   int64  \n",
            " 68  EnclosedPorch  1459 non-null   int64  \n",
            " 69  3SsnPorch      1459 non-null   int64  \n",
            " 70  ScreenPorch    1459 non-null   int64  \n",
            " 71  PoolArea       1459 non-null   int64  \n",
            " 72  PoolQC         3 non-null      object \n",
            " 73  Fence          290 non-null    object \n",
            " 74  MiscFeature    51 non-null     object \n",
            " 75  MiscVal        1459 non-null   int64  \n",
            " 76  MoSold         1459 non-null   int64  \n",
            " 77  YrSold         1459 non-null   int64  \n",
            " 78  SaleType       1458 non-null   object \n",
            " 79  SaleCondition  1459 non-null   object \n",
            "dtypes: float64(11), int64(26), object(43)\n",
            "memory usage: 912.0+ KB\n",
            "None\n"
          ]
        }
      ]
    },
    {
      "cell_type": "code",
      "source": [
        "print(train_df.columns.tolist())\n",
        "print(train_df.shape)"
      ],
      "metadata": {
        "id": "u_M0ItVKz-nC",
        "outputId": "640b3a90-61fd-49e4-8e9a-53a0cfef74ad",
        "colab": {
          "base_uri": "https://localhost:8080/"
        }
      },
      "execution_count": 4,
      "outputs": [
        {
          "output_type": "stream",
          "name": "stdout",
          "text": [
            "['Id', 'MSSubClass', 'MSZoning', 'LotFrontage', 'LotArea', 'Street', 'Alley', 'LotShape', 'LandContour', 'Utilities', 'LotConfig', 'LandSlope', 'Neighborhood', 'Condition1', 'Condition2', 'BldgType', 'HouseStyle', 'OverallQual', 'OverallCond', 'YearBuilt', 'YearRemodAdd', 'RoofStyle', 'RoofMatl', 'Exterior1st', 'Exterior2nd', 'MasVnrType', 'MasVnrArea', 'ExterQual', 'ExterCond', 'Foundation', 'BsmtQual', 'BsmtCond', 'BsmtExposure', 'BsmtFinType1', 'BsmtFinSF1', 'BsmtFinType2', 'BsmtFinSF2', 'BsmtUnfSF', 'TotalBsmtSF', 'Heating', 'HeatingQC', 'CentralAir', 'Electrical', '1stFlrSF', '2ndFlrSF', 'LowQualFinSF', 'GrLivArea', 'BsmtFullBath', 'BsmtHalfBath', 'FullBath', 'HalfBath', 'BedroomAbvGr', 'KitchenAbvGr', 'KitchenQual', 'TotRmsAbvGrd', 'Functional', 'Fireplaces', 'FireplaceQu', 'GarageType', 'GarageYrBlt', 'GarageFinish', 'GarageCars', 'GarageArea', 'GarageQual', 'GarageCond', 'PavedDrive', 'WoodDeckSF', 'OpenPorchSF', 'EnclosedPorch', '3SsnPorch', 'ScreenPorch', 'PoolArea', 'PoolQC', 'Fence', 'MiscFeature', 'MiscVal', 'MoSold', 'YrSold', 'SaleType', 'SaleCondition', 'SalePrice']\n",
            "(1460, 81)\n"
          ]
        }
      ]
    },
    {
      "cell_type": "markdown",
      "source": [
        "**Step 2: Data Preprocessing**"
      ],
      "metadata": {
        "id": "nZ9I9o1M0SkZ"
      }
    },
    {
      "cell_type": "code",
      "source": [
        "# Dropping address-like columns\n",
        "address_related_cols = ['Id','Street', 'Alley', 'Neighborhood', 'Condition1', 'Condition2']\n",
        "train_df = train_df.drop(address_related_cols, axis=1)\n",
        "test_df = test_df.drop(address_related_cols, axis=1)"
      ],
      "metadata": {
        "id": "P1vy_u6N3DNc"
      },
      "execution_count": 5,
      "outputs": []
    },
    {
      "cell_type": "code",
      "source": [
        "# Check for missing values\n",
        "print(\"\\nMissing values in training set:\")\n",
        "print(train_df.isnull().sum())\n",
        "print(\"\\nMissing values in test set:\")\n",
        "print(test_df.isnull().sum())"
      ],
      "metadata": {
        "id": "T24Z4Tjk3rcY",
        "outputId": "25ac8336-14b1-44d5-e9f4-5c5bc33f4a16",
        "colab": {
          "base_uri": "https://localhost:8080/"
        }
      },
      "execution_count": 6,
      "outputs": [
        {
          "output_type": "stream",
          "name": "stdout",
          "text": [
            "\n",
            "Missing values in training set:\n",
            "MSSubClass         0\n",
            "MSZoning           0\n",
            "LotFrontage      259\n",
            "LotArea            0\n",
            "LotShape           0\n",
            "                ... \n",
            "MoSold             0\n",
            "YrSold             0\n",
            "SaleType           0\n",
            "SaleCondition      0\n",
            "SalePrice          0\n",
            "Length: 75, dtype: int64\n",
            "\n",
            "Missing values in test set:\n",
            "MSSubClass         0\n",
            "MSZoning           4\n",
            "LotFrontage      227\n",
            "LotArea            0\n",
            "LotShape           0\n",
            "                ... \n",
            "MiscVal            0\n",
            "MoSold             0\n",
            "YrSold             0\n",
            "SaleType           1\n",
            "SaleCondition      0\n",
            "Length: 74, dtype: int64\n"
          ]
        }
      ]
    },
    {
      "cell_type": "markdown",
      "source": [
        "**Handling Missing Values**"
      ],
      "metadata": {
        "id": "x9HAvq7T7Q-m"
      }
    },
    {
      "cell_type": "code",
      "source": [
        "# Fill numerical columns (same as before)\n",
        "num_cols = train_df.select_dtypes(include=['int64', 'float64']).columns\n",
        "train_df[num_cols] = train_df[num_cols].fillna(train_df[num_cols].median())\n",
        "\n",
        "# For test_df, exclude 'SalePrice' if it doesn't exist\n",
        "test_num_cols = [col for col in num_cols if col in test_df.columns]\n",
        "test_df[test_num_cols] = test_df[test_num_cols].fillna(test_df[test_num_cols].median())\n",
        "\n",
        "# Fill categorical columns (with safety check for all-NaN columns)\n",
        "cat_cols = train_df.select_dtypes(include=['object']).columns\n",
        "\n",
        "for col in cat_cols:\n",
        "    # For train_df\n",
        "    mode_train = train_df[col].mode()\n",
        "    train_df[col] = train_df[col].fillna(mode_train.iloc[0] if not mode_train.empty else \"Missing\")\n",
        "\n",
        "    # For test_df (if column exists)\n",
        "    if col in test_df.columns:\n",
        "        mode_test = test_df[col].mode()\n",
        "        test_df[col] = test_df[col].fillna(mode_test.iloc[0] if not mode_test.empty else \"Missing\")\n",
        "\n",
        "# Verify no missing values remain\n",
        "print(\"Missing values after imputation:\")\n",
        "print(\"Train:\", train_df.isnull().sum().sum(), \"| Test:\", test_df.isnull().sum().sum())"
      ],
      "metadata": {
        "id": "HIVLgO8O4zMe",
        "outputId": "7e407d47-fbc3-4895-b639-c1ff8ec9f3ca",
        "colab": {
          "base_uri": "https://localhost:8080/"
        }
      },
      "execution_count": 7,
      "outputs": [
        {
          "output_type": "stream",
          "name": "stdout",
          "text": [
            "Missing values after imputation:\n",
            "Train: 0 | Test: 0\n"
          ]
        }
      ]
    },
    {
      "cell_type": "code",
      "source": [
        "num_rows = len(train_df)  # For training set\n",
        "print(\"Number of rows in train_df:\", num_rows)\n",
        "\n",
        "num_rows_test = len(test_df)  # For test set\n",
        "print(\"Number of rows in test_df:\", num_rows_test)"
      ],
      "metadata": {
        "id": "i0D_4bxR_f5Z",
        "outputId": "23110812-2cff-49bb-851d-f9e848e55c9f",
        "colab": {
          "base_uri": "https://localhost:8080/"
        }
      },
      "execution_count": 8,
      "outputs": [
        {
          "output_type": "stream",
          "name": "stdout",
          "text": [
            "Number of rows in train_df: 1460\n",
            "Number of rows in test_df: 1459\n"
          ]
        }
      ]
    },
    {
      "cell_type": "code",
      "source": [
        "train_df.shape"
      ],
      "metadata": {
        "id": "B4Vd1-49_8Wy",
        "outputId": "a297e4e0-1cc5-4059-e8d9-70713c4f6a13",
        "colab": {
          "base_uri": "https://localhost:8080/"
        }
      },
      "execution_count": 9,
      "outputs": [
        {
          "output_type": "execute_result",
          "data": {
            "text/plain": [
              "(1460, 75)"
            ]
          },
          "metadata": {},
          "execution_count": 9
        }
      ]
    },
    {
      "cell_type": "code",
      "source": [
        "# Separate features and target\n",
        "X_train = train_df.drop('SalePrice', axis=1)\n",
        "y_train = train_df['SalePrice']\n",
        "X_test = test_df"
      ],
      "metadata": {
        "id": "TCvn19DlAPaF"
      },
      "execution_count": 10,
      "outputs": []
    },
    {
      "cell_type": "code",
      "source": [
        "# Get numerical columns (excluding the target)\n",
        "numerical_cols = X_train.select_dtypes(include=['int64', 'float64']).columns.tolist()\n",
        "\n",
        "# Create preprocessing pipeline\n",
        "preprocessor = Pipeline(steps=[\n",
        "    ('scaler', StandardScaler())\n",
        "])\n",
        "\n",
        "# Apply preprocessing\n",
        "X_train_preprocessed = preprocessor.fit_transform(X_train[numerical_cols])\n",
        "X_test_preprocessed = preprocessor.transform(X_test[numerical_cols])\n",
        "\n",
        "# Convert back to DataFrames for easier handling\n",
        "X_train_processed = pd.DataFrame(X_train_preprocessed, columns=numerical_cols, index=X_train.index)\n",
        "X_test_processed = pd.DataFrame(X_test_preprocessed, columns=numerical_cols, index=X_test.index)\n",
        "\n",
        "# Step 3: Train initial Random Forest model\n",
        "rf_reg = RandomForestRegressor(random_state=42)\n",
        "rf_reg.fit(X_train_processed, y_train)\n",
        "y_pred = rf_reg.predict(X_test_processed)\n",
        "\n",
        "# Since we don't have y_test, we can't evaluate on test set\n",
        "print(\"\\nModel Training Complete. Ready to make predictions on test set.\")"
      ],
      "metadata": {
        "colab": {
          "base_uri": "https://localhost:8080/"
        },
        "id": "76H-3XFMS3pm",
        "outputId": "0db78ddb-2ce6-4b45-9402-7c4d2852d23a"
      },
      "execution_count": 11,
      "outputs": [
        {
          "output_type": "stream",
          "name": "stdout",
          "text": [
            "\n",
            "Model Training Complete. Ready to make predictions on test set.\n"
          ]
        }
      ]
    },
    {
      "cell_type": "markdown",
      "source": [
        "**Hyper Parameter Tuning**"
      ],
      "metadata": {
        "id": "eJdi-N4LTkWO"
      }
    },
    {
      "cell_type": "code",
      "source": [
        "# Step 4: Hyperparameter tuning (using training data only)\n",
        "param_grid = {\n",
        "    'n_estimators': [100, 200],  # Reduced from 3 to 2\n",
        "    'max_depth': [None, 10],      # Reduced from 4 to 2\n",
        "    'min_samples_split': [2, 5],  # Reduced from 3 to 2\n",
        "    'min_samples_leaf': [1, 2]    # Reduced from 3 to 2\n",
        "}\n",
        "# Now only 2×2×2×2 = 16 combinations × 5 folds = 80 fits (vs original 540)\n",
        "\n",
        "grid_search = GridSearchCV(\n",
        "    RandomForestRegressor(random_state=42),\n",
        "    param_grid,\n",
        "    cv=5,\n",
        "    scoring='neg_mean_squared_error',\n",
        "    n_jobs=-1,\n",
        "    verbose=1\n",
        ")\n",
        "\n",
        "print(\"\\nStarting Grid Search...\")\n",
        "grid_search.fit(X_train_processed, y_train)\n",
        "\n",
        "# Get best model\n",
        "best_rf = grid_search.best_estimator_\n",
        "y_pred_tuned = best_rf.predict(X_test_processed)\n",
        "\n",
        "# Can only show training performance since we don't have y_test\n",
        "print(\"\\nTuned Model Training Performance:\")\n",
        "print(f\"Best Parameters: {grid_search.best_params_}\")\n",
        "print(\"Note: Final evaluation requires test set labels which are not available\")\n"
      ],
      "metadata": {
        "colab": {
          "base_uri": "https://localhost:8080/"
        },
        "id": "v6F9vexiTo29",
        "outputId": "b0dafead-a9db-4c74-8872-c7a904f8eeb5"
      },
      "execution_count": 13,
      "outputs": [
        {
          "output_type": "stream",
          "name": "stdout",
          "text": [
            "\n",
            "Starting Grid Search...\n",
            "Fitting 5 folds for each of 16 candidates, totalling 80 fits\n",
            "\n",
            "Tuned Model Training Performance:\n",
            "Best Parameters: {'max_depth': None, 'min_samples_leaf': 1, 'min_samples_split': 2, 'n_estimators': 100}\n",
            "Note: Final evaluation requires test set labels which are not available\n"
          ]
        }
      ]
    },
    {
      "cell_type": "markdown",
      "source": [
        "**Step 5: Visualization (using training data for visualization)**"
      ],
      "metadata": {
        "id": "u7uyyj6aJw2Q"
      }
    },
    {
      "cell_type": "code",
      "source": [
        "# Plot feature importance only (since we can't plot actual vs predicted without y_test)\n",
        "feature_importance = pd.DataFrame({\n",
        "    'Feature': numerical_cols,\n",
        "    'Importance': best_rf.feature_importances_\n",
        "}).sort_values('Importance', ascending=False)\n",
        "\n",
        "# Plot feature importance\n",
        "plt.figure(figsize=(12, 8))\n",
        "plt.barh(feature_importance['Feature'], feature_importance['Importance'])\n",
        "plt.xlabel('Importance Score')\n",
        "plt.ylabel('Feature')\n",
        "plt.title('Feature Importance for House Price Prediction')\n",
        "plt.gca().invert_yaxis()\n",
        "plt.show()"
      ],
      "metadata": {
        "colab": {
          "base_uri": "https://localhost:8080/",
          "height": 626
        },
        "id": "wDId3FzcJuCf",
        "outputId": "56943a28-2e3d-4ef0-b5c5-f45ddbba8f1b"
      },
      "execution_count": 17,
      "outputs": [
        {
          "output_type": "display_data",
          "data": {
            "text/plain": [
              "<Figure size 1200x800 with 1 Axes>"
            ],
            "image/png": "[encoded data removed]"
          },
          "metadata": {}
        }
      ]
    },
    {
      "cell_type": "code",
      "source": [
        "# Step 6: Make sample predictions\n",
        "sample_idx = 0\n",
        "sample_house = X_test.iloc[sample_idx:sample_idx+1]\n",
        "sample_house_processed = preprocessor.transform(sample_house[numerical_cols])\n",
        "sample_pred = best_rf.predict(sample_house_processed)\n",
        "\n",
        "print(\"\\nSample Prediction:\")\n",
        "print(\"House Features:\")\n",
        "print(sample_house)\n",
        "print(f\"\\nPredicted Price: ${sample_pred[0]:.2f}\")"
      ],
      "metadata": {
        "colab": {
          "base_uri": "https://localhost:8080/"
        },
        "id": "gd_aZrKNNGKi",
        "outputId": "8108e2c5-efac-4d2f-f588-70c4d69a0a6d"
      },
      "execution_count": 21,
      "outputs": [
        {
          "output_type": "stream",
          "name": "stdout",
          "text": [
            "\n",
            "Sample Prediction:\n",
            "House Features:\n",
            "   MSSubClass MSZoning  LotFrontage  LotArea LotShape LandContour Utilities  \\\n",
            "0          20       RH         80.0    11622      Reg         Lvl    AllPub   \n",
            "\n",
            "  LotConfig LandSlope BldgType  ... ScreenPorch  PoolArea  PoolQC  Fence  \\\n",
            "0    Inside       Gtl     1Fam  ...         120         0      Ex  MnPrv   \n",
            "\n",
            "   MiscFeature MiscVal MoSold YrSold SaleType SaleCondition  \n",
            "0         Shed       0      6   2010       WD        Normal  \n",
            "\n",
            "[1 rows x 74 columns]\n",
            "\n",
            "Predicted Price: $128070.50\n"
          ]
        }
      ]
    }
  ]
}
