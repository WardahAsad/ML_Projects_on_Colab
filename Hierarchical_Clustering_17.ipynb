{
  "nbformat": 4,
  "nbformat_minor": 0,
  "metadata": {
    "colab": {
      "provenance": [],
      "include_colab_link": true
    },
    "kernelspec": {
      "name": "python3",
      "display_name": "Python 3"
    },
    "language_info": {
      "name": "python"
    }
  },
  "cells": [
    {
      "cell_type": "markdown",
      "metadata": {
        "id": "view-in-github",
        "colab_type": "text"
      },
      "source": [
        "<a href=\"https://colab.research.google.com/github/WardahAsad/ML_Projects_on_Colab/blob/main/Hierarchical_Clustering_17.ipynb\" target=\"_parent\"><img src=\"https://colab.research.google.com/assets/colab-badge.svg\" alt=\"Open In Colab\"/></a>"
      ]
    },
    {
      "cell_type": "markdown",
      "source": [
        "# **Assignment: Hierarchical Clustering for E-commerce Customer Segmentation**\n",
        "\n",
        "## **Objective**  \n",
        "Perform **Hierarchical Clustering** to group e-commerce customers based on their purchasing behavior. The goal is to analyze customer data and segment them into clusters based on features such as total purchase amount, frequency of purchases, and recency.\n",
        "\n",
        "---\n",
        "\n",
        "## **Dataset**  \n",
        "Download the **E-Commerce dataset** from Kaggle:  \n",
        "🔗 [E-Commerce Dataset](https://www.kaggle.com/datasets/carrie1/ecommerce-data)\n",
        "\n",
        "- Load the **Ecommerce Purchases.csv** dataset into a Pandas DataFrame and display the first few rows to understand the structure.\n",
        "- The dataset contains customer purchasing data, including **Product Category**, **Purchase Amount**, and **Customer ID**.\n",
        "- The **\"Customer ID\"** column will be used to identify customers, while other features like **Product Category** and **Amount Spent** will be used for clustering.\n",
        "\n",
        "---\n",
        "\n",
        "## **Feature Description**  \n",
        "- **Target Feature:** None (Unsupervised learning task)  \n",
        "- **Features for Clustering:**  \n",
        "  - **Product Category** (the category of the product purchased by the customer)\n",
        "  - **Amount Spent** (the amount spent on each purchase)\n",
        "  - **Purchase Frequency** (the number of times a customer has made a purchase)\n",
        "\n",
        "---\n",
        "\n",
        "## **Tasks**  \n",
        "\n",
        "### **1. Data Preprocessing**  \n",
        "- Load the **E-Commerce dataset** and check for missing values.\n",
        "- Filter the dataset to include only valid **Customer ID** values (excluding rows with missing **Customer ID**).\n",
        "- Create the following features:\n",
        "  - **Total Amount Spent**: Sum the **Amount Spent** for each customer.\n",
        "  - **Purchase Frequency**: Count the number of purchases made by each customer.\n",
        "- Standardize the features (Total Amount Spent, Purchase Frequency) using **StandardScaler**.\n",
        "\n",
        "---\n",
        "\n",
        "### **2. Perform Hierarchical Clustering**  \n",
        "- Apply **Agglomerative Hierarchical Clustering** to group customers based on the purchasing features.\n",
        "  - Use **Euclidean distance** as the metric for clustering and the **ward linkage** method.\n",
        "  - Start with `k=5` as the initial number of clusters.\n",
        "  - Visualize the resulting clusters using a **dendrogram** to determine the optimal number of clusters.\n",
        "\n",
        "---\n",
        "\n",
        "### **3. Dendrogram Analysis**  \n",
        "- Use the **dendrogram** to identify the optimal number of clusters.  \n",
        "  - Experiment with different values of `k` and analyze how the clusters form. Try `k=3, 4, 6` clusters and see which one yields the most meaningful segmentation.\n",
        "\n",
        "---\n",
        "\n",
        "### **4. Model Evaluation**  \n",
        "- Assign the cluster labels to the dataset and visualize the customer clusters.\n",
        "- Create a **scatter plot** to visualize the clusters and see the relationship between **Total Amount Spent** and **Purchase Frequency** for each cluster.\n",
        "- Create a bar plot to show the **distribution of Product Categories** across clusters.\n",
        "\n",
        "---\n",
        "\n",
        "## **Submission Guidelines**  \n",
        "- Submit a **Colab Notebook (.ipynb)** with code and visualizations.  \n"
      ],
      "metadata": {
        "id": "wWKbOvDhV3O_"
      }
    },
    {
      "cell_type": "code",
      "source": [
        "# Import necessary libraries\n",
        "import pandas as pd\n",
        "import numpy as np\n",
        "import matplotlib.pyplot as plt\n",
        "import seaborn as sns\n",
        "from sklearn.preprocessing import StandardScaler\n",
        "from sklearn.cluster import AgglomerativeClustering\n",
        "from scipy.cluster.hierarchy import dendrogram, linkage\n",
        "from sklearn.metrics import silhouette_score\n",
        "from datetime import datetime\n",
        "\n",
        "# 1. Data Preprocessing\n",
        "# Load the dataset (update path as needed)\n",
        "df = pd.read_csv('/content/data.csv', encoding='latin1')\n",
        "\n",
        "# Display basic info\n",
        "print(\"Dataset Info:\")\n",
        "print(df.info())\n",
        "print(\"\\nFirst 5 rows:\")\n",
        "print(df.head())"
      ],
      "metadata": {
        "colab": {
          "base_uri": "https://localhost:8080/"
        },
        "id": "4SmTzOM2M1Ys",
        "outputId": "177e6261-946d-49c9-ce3e-89eab7f26375"
      },
      "execution_count": 6,
      "outputs": [
        {
          "output_type": "stream",
          "name": "stdout",
          "text": [
            "Dataset Info:\n",
            "<class 'pandas.core.frame.DataFrame'>\n",
            "RangeIndex: 541909 entries, 0 to 541908\n",
            "Data columns (total 8 columns):\n",
            " #   Column       Non-Null Count   Dtype  \n",
            "---  ------       --------------   -----  \n",
            " 0   InvoiceNo    541909 non-null  object \n",
            " 1   StockCode    541909 non-null  object \n",
            " 2   Description  540455 non-null  object \n",
            " 3   Quantity     541909 non-null  int64  \n",
            " 4   InvoiceDate  541909 non-null  object \n",
            " 5   UnitPrice    541909 non-null  float64\n",
            " 6   CustomerID   406829 non-null  float64\n",
            " 7   Country      541909 non-null  object \n",
            "dtypes: float64(2), int64(1), object(5)\n",
            "memory usage: 33.1+ MB\n",
            "None\n",
            "\n",
            "First 5 rows:\n",
            "  InvoiceNo StockCode                          Description  Quantity  \\\n",
            "0    536365    85123A   WHITE HANGING HEART T-LIGHT HOLDER         6   \n",
            "1    536365     71053                  WHITE METAL LANTERN         6   \n",
            "2    536365    84406B       CREAM CUPID HEARTS COAT HANGER         8   \n",
            "3    536365    84029G  KNITTED UNION FLAG HOT WATER BOTTLE         6   \n",
            "4    536365    84029E       RED WOOLLY HOTTIE WHITE HEART.         6   \n",
            "\n",
            "      InvoiceDate  UnitPrice  CustomerID         Country  \n",
            "0  12/1/2010 8:26       2.55     17850.0  United Kingdom  \n",
            "1  12/1/2010 8:26       3.39     17850.0  United Kingdom  \n",
            "2  12/1/2010 8:26       2.75     17850.0  United Kingdom  \n",
            "3  12/1/2010 8:26       3.39     17850.0  United Kingdom  \n",
            "4  12/1/2010 8:26       3.39     17850.0  United Kingdom  \n"
          ]
        }
      ]
    },
    {
      "cell_type": "code",
      "source": [
        "# Check for missing values\n",
        "print(\"\\nMissing values:\")\n",
        "print(df.isnull().sum())\n",
        "\n",
        "# Filter out rows with missing CustomerID\n",
        "df = df.dropna(subset=['CustomerID'])\n",
        "\n",
        "# Create AmountSpent column\n",
        "df['AmountSpent'] = df['Quantity'] * df['UnitPrice']\n",
        "\n",
        "# Convert InvoiceDate to datetime\n",
        "df['InvoiceDate'] = pd.to_datetime(df['InvoiceDate'])\n",
        "\n",
        "# Create customer-level features\n",
        "customer_data = df.groupby('CustomerID').agg({\n",
        "    'AmountSpent': 'sum',  # Total amount spent\n",
        "    'InvoiceNo': 'nunique',  # Purchase frequency\n",
        "    'Description': lambda x: x.value_counts().index[0],  # Most purchased product\n",
        "    'InvoiceDate': 'max'  # Last purchase date\n",
        "}).reset_index()\n",
        "\n",
        "# Rename columns\n",
        "customer_data.columns = ['CustomerID', 'TotalAmountSpent', 'PurchaseFrequency',\n",
        "                        'MostPurchasedProduct', 'LastPurchaseDate']\n",
        "\n",
        "# Calculate Recency (days since last purchase)\n",
        "customer_data['Recency'] = (datetime.now() - customer_data['LastPurchaseDate']).dt.days\n",
        "\n",
        "# Standardize features\n",
        "scaler = StandardScaler()\n",
        "features = customer_data[['TotalAmountSpent', 'PurchaseFrequency', 'Recency']]\n",
        "X_scaled = scaler.fit_transform(features)\n",
        "\n",
        "# 2. Perform Hierarchical Clustering\n",
        "# Create linkage matrix\n",
        "linkage_matrix = linkage(X_scaled, method='ward', metric='euclidean')\n",
        "\n",
        "# Plot dendrogram\n",
        "plt.figure(figsize=(15, 8))\n",
        "dendrogram(linkage_matrix,\n",
        "           truncate_mode='lastp',\n",
        "           p=50,\n",
        "           show_leaf_counts=True,\n",
        "           leaf_rotation=90,\n",
        "           leaf_font_size=12)\n",
        "plt.title('Hierarchical Clustering Dendrogram')\n",
        "plt.xlabel('Customer Index or Cluster Size')\n",
        "plt.ylabel('Distance')\n",
        "plt.show()"
      ],
      "metadata": {
        "colab": {
          "base_uri": "https://localhost:8080/",
          "height": 783
        },
        "id": "tCoi1iqJPS6l",
        "outputId": "5516d268-c620-49f3-bf65-b517713fce60"
      },
      "execution_count": 8,
      "outputs": [
        {
          "output_type": "stream",
          "name": "stdout",
          "text": [
            "\n",
            "Missing values:\n",
            "InvoiceNo      0\n",
            "StockCode      0\n",
            "Description    0\n",
            "Quantity       0\n",
            "InvoiceDate    0\n",
            "UnitPrice      0\n",
            "CustomerID     0\n",
            "Country        0\n",
            "AmountSpent    0\n",
            "dtype: int64\n"
          ]
        },
        {
          "output_type": "display_data",
          "data": {
            "text/plain": [
              "<Figure size 1500x800 with 1 Axes>"
            ],
            "image/png": "[encoded data removed]"
          },
          "metadata": {}
        }
      ]
    },
    {
      "cell_type": "code",
      "source": [
        "# 3. Dendrogram Analysis - Choose optimal k\n",
        "optimal_k = 4  # Based on dendrogram analysis\n",
        "\n",
        "# Perform clustering with optimal k\n",
        "cluster = AgglomerativeClustering(n_clusters=optimal_k,\n",
        "                                 affinity='euclidean',\n",
        "                                 linkage='ward')\n",
        "customer_data['Cluster'] = cluster.fit_predict(X_scaled)"
      ],
      "metadata": {
        "id": "Cicq3WJqPv2X"
      },
      "execution_count": null,
      "outputs": []
    },
    {
      "cell_type": "code",
      "source": [
        "# 4. Model Evaluation and Visualization\n",
        "# Scatter plot of clusters (TotalAmountSpent vs PurchaseFrequency)\n",
        "plt.figure(figsize=(12, 8))\n",
        "sns.scatterplot(data=customer_data,\n",
        "                x='TotalAmountSpent',\n",
        "                y='PurchaseFrequency',\n",
        "                hue='Cluster',\n",
        "                palette='viridis',\n",
        "                s=100)\n",
        "plt.title('Customer Segmentation by Spending and Frequency')\n",
        "plt.xlabel('Total Amount Spent ($)')\n",
        "plt.ylabel('Number of Purchases')\n",
        "plt.grid(True)\n",
        "plt.show()\n",
        "\n",
        "# Cluster statistics\n",
        "cluster_stats = customer_data.groupby('Cluster').agg({\n",
        "    'TotalAmountSpent': ['mean', 'std', 'count'],\n",
        "    'PurchaseFrequency': ['mean', 'std'],\n",
        "    'Recency': ['mean', 'std']\n",
        "}).reset_index()\n",
        "\n",
        "print(\"\\nCluster Statistics:\")\n",
        "print(cluster_stats)\n",
        "\n",
        "# Product distribution across clusters (top 10 products)\n",
        "plt.figure(figsize=(14, 6))\n",
        "top_products = customer_data['MostPurchasedProduct'].value_counts().nlargest(10).index\n",
        "filtered_data = customer_data[customer_data['MostPurchasedProduct'].isin(top_products)]\n",
        "\n",
        "sns.countplot(data=filtered_data,\n",
        "              x='MostPurchasedProduct',\n",
        "              hue='Cluster',\n",
        "              palette='viridis')\n",
        "plt.title('Top 10 Product Distribution Across Clusters')\n",
        "plt.xlabel('Product Description')\n",
        "plt.ylabel('Count')\n",
        "plt.xticks(rotation=45, ha='right')\n",
        "plt.legend(title='Cluster')\n",
        "plt.tight_layout()\n",
        "plt.show()\n",
        "\n",
        "# Silhouette score evaluation\n",
        "silhouette_avg = silhouette_score(X_scaled, customer_data['Cluster'])\n",
        "print(f\"\\nSilhouette Score: {silhouette_avg:.3f}\")\n",
        "\n",
        "# Interpretation of clusters\n",
        "print(\"\\nCluster Interpretation:\")\n",
        "print(\"1. High Value Loyal Customers: High spending, high frequency, recent purchases\")\n",
        "print(\"2. Frequent Shoppers: Moderate spending, high frequency\")\n",
        "print(\"3. At-Risk Customers: High spending but not purchased recently\")\n",
        "print(\"4. Occasional Shoppers: Low spending, low frequency\")"
      ],
      "metadata": {
        "id": "xXmp6JG-Py-O"
      },
      "execution_count": null,
      "outputs": []
    },
    {
      "cell_type": "code",
      "source": [
        "# Additional 3D visualization (optional)\n",
        "from mpl_toolkits.mplot3d import Axes3D\n",
        "\n",
        "fig = plt.figure(figsize=(12, 8))\n",
        "ax = fig.add_subplot(111, projection='3d')\n",
        "\n",
        "for cluster_num in range(optimal_k):\n",
        "    cluster_data = customer_data[customer_data['Cluster'] == cluster_num]\n",
        "    ax.scatter(cluster_data['TotalAmountSpent'],\n",
        "               cluster_data['PurchaseFrequency'],\n",
        "               cluster_data['Recency'],\n",
        "               label=f'Cluster {cluster_num}',\n",
        "               s=100)\n",
        "\n",
        "ax.set_xlabel('Total Amount Spent')\n",
        "ax.set_ylabel('Purchase Frequency')\n",
        "ax.set_zlabel('Recency (days)')\n",
        "ax.set_title('3D Cluster Visualization (RFM Analysis)')\n",
        "plt.legend()\n",
        "plt.show()"
      ],
      "metadata": {
        "id": "1EuIAxQyP1Up"
      },
      "execution_count": null,
      "outputs": []
    }
  ]
}